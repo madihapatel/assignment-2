{
 "cells": [
  {
   "cell_type": "code",
   "execution_count": 3,
   "id": "40f3141e-6cdc-4766-9751-d4b63c0bafa0",
   "metadata": {},
   "outputs": [
    {
     "data": {
      "text/plain": [
       "'madihapatel'"
      ]
     },
     "execution_count": 3,
     "metadata": {},
     "output_type": "execute_result"
    }
   ],
   "source": [
    "1 #concatinate\n",
    "first_name = \"madiha\"\n",
    "last_name = \"patel\"\n",
    "first_name + last_name\n"
   ]
  },
  {
   "cell_type": "code",
   "execution_count": 3,
   "id": "f17b5fc8-d8bc-4eb3-8da4-07f78c1faeb4",
   "metadata": {},
   "outputs": [
    {
     "data": {
      "text/plain": [
       "'madiha'"
      ]
     },
     "execution_count": 3,
     "metadata": {},
     "output_type": "execute_result"
    }
   ],
   "source": [
    "name = \"madiha patel \"\n",
    "name [0:6]\n"
   ]
  },
  {
   "cell_type": "code",
   "execution_count": 16,
   "id": "7ecc784b-56f3-4246-a727-2dc20c7349c7",
   "metadata": {},
   "outputs": [
    {
     "data": {
      "text/plain": [
       "'patel'"
      ]
     },
     "execution_count": 16,
     "metadata": {},
     "output_type": "execute_result"
    }
   ],
   "source": [
    "name [7:12]\n"
   ]
  },
  {
   "cell_type": "code",
   "execution_count": 44,
   "id": "5a988f29-121c-4e27-8e40-3dd169860872",
   "metadata": {},
   "outputs": [
    {
     "name": "stdout",
     "output_type": "stream",
     "text": [
      "['maharashtra', 'panjab', 'goa', 'andhra pradesh']\n"
     ]
    }
   ],
   "source": [
    "3 #list\n",
    "list = [ \"maharashtra\" , \"panjab\" , \"goa\" , \"andhra pradesh\"]\n",
    "print (list)"
   ]
  },
  {
   "cell_type": "code",
   "execution_count": 46,
   "id": "d5416e03-f488-4c52-b7dc-97a02704a4cf",
   "metadata": {},
   "outputs": [
    {
     "name": "stdout",
     "output_type": "stream",
     "text": [
      "maharashtra\n",
      "panjab\n",
      "goa\n",
      "andhra pradesh\n"
     ]
    }
   ],
   "source": [
    "list = [ \"maharashtra\" , \"panjab\" , \"goa\" , \"andhra pradesh\"]\n",
    "for i in list:\n",
    "    print (i)"
   ]
  }
 ],
 "metadata": {
  "kernelspec": {
   "display_name": "Python 3 (ipykernel)",
   "language": "python",
   "name": "python3"
  },
  "language_info": {
   "codemirror_mode": {
    "name": "ipython",
    "version": 3
   },
   "file_extension": ".py",
   "mimetype": "text/x-python",
   "name": "python",
   "nbconvert_exporter": "python",
   "pygments_lexer": "ipython3",
   "version": "3.12.4"
  }
 },
 "nbformat": 4,
 "nbformat_minor": 5
}
